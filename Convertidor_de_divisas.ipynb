{
  "nbformat": 4,
  "nbformat_minor": 0,
  "metadata": {
    "colab": {
      "provenance": [],
      "authorship_tag": "ABX9TyN1Hd5iLk7j6eDMxPDTpXRV",
      "include_colab_link": true
    },
    "kernelspec": {
      "name": "python3",
      "display_name": "Python 3"
    },
    "language_info": {
      "name": "python"
    }
  },
  "cells": [
    {
      "cell_type": "markdown",
      "metadata": {
        "id": "view-in-github",
        "colab_type": "text"
      },
      "source": [
        "<a href=\"https://colab.research.google.com/github/gabrielflores-cloud/cursophytoncucsh/blob/main/Convertidor_de_divisas.ipynb\" target=\"_parent\"><img src=\"https://colab.research.google.com/assets/colab-badge.svg\" alt=\"Open In Colab\"/></a>"
      ]
    },
    {
      "cell_type": "markdown",
      "source": [
        "Curso: **Análisis y visualización de datos con Python en la nube**\n",
        "\n",
        "**Proyecto 2**. **Convertidor de divisas**\n",
        "\n",
        "Gabriel Flores Allende\n",
        "\n",
        "•\tCampus: CUCEA\n",
        "•\t08 de octubre de 2025\n",
        "\n",
        "\n",
        "\n"
      ],
      "metadata": {
        "id": "a7W6KZCxmXNC"
      }
    },
    {
      "cell_type": "markdown",
      "source": [
        "##Presentar al usuario las reglas de uso de programa y\n",
        "Preguntar al usuario el codigo de divisa de entrada"
      ],
      "metadata": {
        "id": "Sa8Ssqn9Gmfl"
      }
    },
    {
      "cell_type": "code",
      "source": [
        "import json\n",
        "import requests\n",
        "\n",
        "def currency_search(cur):\n",
        "    r = requests.get(\"http://www.floatrates.com/daily/{}.json\".format(cur))\n",
        "    return r.text"
      ],
      "metadata": {
        "id": "8VD1AE32UN-G"
      },
      "execution_count": 17,
      "outputs": []
    },
    {
      "cell_type": "code",
      "metadata": {
        "colab": {
          "base_uri": "https://localhost:8080/"
        },
        "id": "a5274a90",
        "outputId": "d90f8e58-e6b7-417f-bea3-b4b04e98b6f6"
      },
      "source": [
        "print(\"¡Hola! Bienvenido al convertidor de divisas.\")\n",
        "print(\"Puedes salir del programa en cualquier momento presionando Enter cuando se te solicite el código de divisa.\")\n",
        "\n",
        "while True:\n",
        "    source_currency = input(\"Por favor, introduce el código de la divisa de origen (ej: USD, MXN): \").upper()\n",
        "\n",
        "    if source_currency == \"\":\n",
        "        print(\"Saliendo del programa.\")\n",
        "        break\n",
        "\n",
        "    try:\n",
        "        currency_data = currency_search(source_currency)\n",
        "        currency_dict = json.loads(currency_data)\n",
        "        print(f\"Datos de la divisa {source_currency} descargados exitosamente.\")\n",
        "        # You can now work with the currency_dict\n",
        "        break # Exit the loop if successful\n",
        "    except Exception as e:\n",
        "        print(f\"Error al descargar o procesar los datos de la divisa {source_currency}. Por favor, verifica el código e intenta de nuevo.\")\n",
        "        print(f\"Detalle del error: {e}\")"
      ],
      "execution_count": 18,
      "outputs": [
        {
          "output_type": "stream",
          "name": "stdout",
          "text": [
            "¡Hola! Bienvenido al convertidor de divisas.\n",
            "Puedes salir del programa en cualquier momento presionando Enter cuando se te solicite el código de divisa.\n",
            "Por favor, introduce el código de la divisa de origen (ej: USD, MXN): MXN\n",
            "Datos de la divisa MXN descargados exitosamente.\n"
          ]
        }
      ]
    },
    {
      "cell_type": "markdown",
      "source": [
        " Agrega un componenete que pregunta al usuario por el tipo de divisa de destino y el monto a convertir."
      ],
      "metadata": {
        "id": "Yikpc9YtU_Uu"
      }
    },
    {
      "cell_type": "markdown",
      "source": [],
      "metadata": {
        "id": "Q-Qj7Ru2VMFA"
      }
    },
    {
      "cell_type": "code",
      "source": [
        "while True:\n",
        "    target_currency = input(\"Por favor, introduce el código de la divisa de destino (ej: USD, EUR): \").upper()\n",
        "\n",
        "    if target_currency == \"\":\n",
        "        print(\"Saliendo del programa.\")\n",
        "        break\n",
        "\n",
        "    if target_currency.lower() not in currency_dict:\n",
        "        print(f\"La divisa de destino {target_currency} no se encuentra en los datos disponibles. Intenta con otro código.\")\n",
        "        continue\n",
        "\n",
        "    while True:\n",
        "        amount_str = input(f\"Introduce la cantidad a convertir de {source_currency} a {target_currency}: \")\n",
        "        if amount_str == \"\":\n",
        "            print(\"Saliendo del programa.\")\n",
        "            exit() # Exit the script entirely if the user enters an empty string for the amount\n",
        "\n",
        "        try:\n",
        "            amount = float(amount_str)\n",
        "            break # Exit the inner loop if the amount is a valid number\n",
        "        except ValueError:\n",
        "            print(\"Entrada no válida. Por favor, introduce una cantidad numérica.\")\n",
        "\n",
        "    exchange_rate = currency_dict[target_currency.lower()]['rate']\n",
        "    converted_amount = amount * exchange_rate\n",
        "\n",
        "    print(f\"{amount:.2f} {source_currency} es igual a {converted_amount:.2f} {target_currency}\")"
      ],
      "metadata": {
        "colab": {
          "base_uri": "https://localhost:8080/"
        },
        "id": "X6UdntSlVMhn",
        "outputId": "a87268b7-6121-4b4c-cee0-aba3285d4bab"
      },
      "execution_count": null,
      "outputs": [
        {
          "output_type": "stream",
          "name": "stdout",
          "text": [
            "Por favor, introduce el código de la divisa de destino (ej: USD, EUR): USD\n",
            "Introduce la cantidad a convertir de MXN a USD: 5000\n",
            "5000.00 MXN es igual a 272.07 USD\n",
            "Por favor, introduce el código de la divisa de destino (ej: USD, EUR): EUR\n",
            "Introduce la cantidad a convertir de MXN a EUR: 5000\n",
            "5000.00 MXN es igual a 234.13 EUR\n",
            "Por favor, introduce el código de la divisa de destino (ej: USD, EUR): MXN\n",
            "La divisa de destino MXN no se encuentra en los datos disponibles. Intenta con otro código.\n",
            "Por favor, introduce el código de la divisa de destino (ej: USD, EUR): USD\n",
            "Introduce la cantidad a convertir de MXN a USD: 90000\n",
            "90000.00 MXN es igual a 4897.34 USD\n"
          ]
        }
      ]
    }
  ]
}