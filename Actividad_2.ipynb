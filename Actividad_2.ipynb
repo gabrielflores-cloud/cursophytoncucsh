{
  "nbformat": 4,
  "nbformat_minor": 0,
  "metadata": {
    "colab": {
      "provenance": [],
      "authorship_tag": "ABX9TyNCDHQH5IVy/wyOiF7Cjx/7",
      "include_colab_link": true
    },
    "kernelspec": {
      "name": "python3",
      "display_name": "Python 3"
    },
    "language_info": {
      "name": "python"
    }
  },
  "cells": [
    {
      "cell_type": "markdown",
      "metadata": {
        "id": "view-in-github",
        "colab_type": "text"
      },
      "source": [
        "<a href=\"https://colab.research.google.com/github/gabrielflores-cloud/cursophytoncucsh/blob/main/Actividad_2.ipynb\" target=\"_parent\"><img src=\"https://colab.research.google.com/assets/colab-badge.svg\" alt=\"Open In Colab\"/></a>"
      ]
    },
    {
      "cell_type": "markdown",
      "source": [
        "Curso: Análisis y visualización de datos con Python\n",
        "en la nube.\n",
        "\n",
        "## **Actividad 2.** Uso de Google Drive en combinación con Google Colab\n",
        "Gabriel Flores Allende.\n",
        "\n",
        "\n",
        "*   Campus: CUCEA\n",
        "*   Fecha: 17 de septiembre de 2025"
      ],
      "metadata": {
        "id": "JEuyp7rICQx6"
      }
    },
    {
      "cell_type": "code",
      "execution_count": 26,
      "metadata": {
        "id": "vFDgVPoI_-m7",
        "colab": {
          "base_uri": "https://localhost:8080/"
        },
        "outputId": "762e0fb8-8be9-4ae4-f937-f2bd2e65c4d3"
      },
      "outputs": [
        {
          "output_type": "stream",
          "name": "stdout",
          "text": [
            "Drive already mounted at /content/drive; to attempt to forcibly remount, call drive.mount(\"/content/drive\", force_remount=True).\n"
          ]
        }
      ],
      "source": [
        "from google.colab import drive\n",
        "drive.mount('/content/drive')"
      ]
    },
    {
      "cell_type": "code",
      "source": [
        "nombre_archivo = \"Mi_ejemplo_Texto_GFA.txt\"\n",
        "ruta = \"/content/drive/MyDrive/Colab data/\"\n",
        "file = \"Mi_ejemplo_Texto_GFA.txt\"\n",
        "\n",
        "with open (ruta + file, 'r') as f:\n",
        "  d = f.read()\n",
        "  print(d)"
      ],
      "metadata": {
        "colab": {
          "base_uri": "https://localhost:8080/"
        },
        "id": "U1JhLLvlHHGQ",
        "outputId": "4b106e1c-f0a1-454f-abcb-b018946495cb"
      },
      "execution_count": 34,
      "outputs": [
        {
          "output_type": "stream",
          "name": "stdout",
          "text": [
            "El curso de Python parece ser sencillo, \n",
            "pero es más dificil que aprender a cantar en Ruso\n",
            "\n"
          ]
        }
      ]
    },
    {
      "cell_type": "markdown",
      "source": [],
      "metadata": {
        "id": "G1QC--ZKIjzU"
      }
    }
  ]
}