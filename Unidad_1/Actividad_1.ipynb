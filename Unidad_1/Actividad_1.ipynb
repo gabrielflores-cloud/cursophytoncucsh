{
  "nbformat": 4,
  "nbformat_minor": 0,
  "metadata": {
    "colab": {
      "provenance": [],
      "authorship_tag": "ABX9TyPrNoXQ/4cE2t8/2TSUesuw",
      "include_colab_link": true
    },
    "kernelspec": {
      "name": "python3",
      "display_name": "Python 3"
    },
    "language_info": {
      "name": "python"
    }
  },
  "cells": [
    {
      "cell_type": "markdown",
      "metadata": {
        "id": "view-in-github",
        "colab_type": "text"
      },
      "source": [
        "<a href=\"https://colab.research.google.com/github/gabrielflores-cloud/cursophytoncucsh/blob/main/Unidad_1/Actividad_1.ipynb\" target=\"_parent\"><img src=\"https://colab.research.google.com/assets/colab-badge.svg\" alt=\"Open In Colab\"/></a>"
      ]
    },
    {
      "cell_type": "code",
      "source": [],
      "metadata": {
        "id": "bbc9WdXdI-h4"
      },
      "execution_count": 8,
      "outputs": []
    },
    {
      "cell_type": "markdown",
      "source": [
        "# **Actividad 1.**\n",
        "# Curso: Análisis y visualización de datos con Python en la nube\n",
        "**\"Gabriel Flores Allende.**\n",
        "10 de septiembre de 2025.\n",
        "Campus: Centro Universitario de Ciencias Económico Administrativas (CUCEA)\n",
        "\n",
        "**import datetime**\n",
        "# hora (tiempo universal coordinado, UTC) y fecha\n",
        "now = datetime.datetime.now()\n",
        "print(f\"fecha y hora (UTC): {now.strftime(´%Y-%m-%d %H:%M´)}#)\n",
        "\n"
      ],
      "metadata": {
        "id": "p1gKergII-nj"
      }
    },
    {
      "cell_type": "code",
      "source": [],
      "metadata": {
        "id": "poECqGtkLzIs"
      },
      "execution_count": 8,
      "outputs": []
    },
    {
      "cell_type": "markdown",
      "source": [],
      "metadata": {
        "id": "cUKQwWu-L0sT"
      }
    },
    {
      "cell_type": "code",
      "source": [
        "import datetime\n",
        "\n",
        "# hora (tiempo universtal coordinado, UTC) y fecha\n",
        "now = datetime.datetime.now()\n",
        "print(f\"fecha y hora (UTC): {now.strftime('%Y-%m-%d %H:%M')}\")"
      ],
      "metadata": {
        "colab": {
          "base_uri": "https://localhost:8080/"
        },
        "id": "i0O3LNKvL4Wj",
        "outputId": "191db759-fa45-453d-c91f-70b4c8154a36"
      },
      "execution_count": 9,
      "outputs": [
        {
          "output_type": "stream",
          "name": "stdout",
          "text": [
            "fecha y hora (UTC): 2025-09-11 01:08\n"
          ]
        }
      ]
    },
    {
      "cell_type": "markdown",
      "source": [
        "¿Cuál es"
      ],
      "metadata": {
        "id": "w7ZWRDIlRkPA"
      }
    },
    {
      "cell_type": "code",
      "source": [
        "import sys\n",
        "#Versión de Python\n",
        "print(f\"versión de python: {sys.version}\")\n",
        "\n",
        "\n",
        "import platform\n",
        "# Parámetros del entorno de ejecución (ejemplo con algunas varaibles de entorno)\n",
        "print(\"\\nParámetros del entorno de ejecución:\")\n",
        "print(f\"Sistema operativo: {platform.system()}\")\n",
        "print(f\"Nombre del nodo: {platform.node()}\")\n",
        "print(f\"Arquitectura: {platform.architecture()}\")\n",
        "print(f\"Procesador: {platform.processor()}\")"
      ],
      "metadata": {
        "colab": {
          "base_uri": "https://localhost:8080/"
        },
        "id": "1MazSvEGRrIN",
        "outputId": "cec823a4-55d0-4b3a-b81f-178f5a7635a6"
      },
      "execution_count": 10,
      "outputs": [
        {
          "output_type": "stream",
          "name": "stdout",
          "text": [
            "versión de python: 3.12.11 (main, Jun  4 2025, 08:56:18) [GCC 11.4.0]\n",
            "\n",
            "Parámetros del entorno de ejecución:\n",
            "Sistema operativo: Linux\n",
            "Nombre del nodo: a39bbaaf18a6\n",
            "Arquitectura: ('64bit', 'ELF')\n",
            "Procesador: x86_64\n"
          ]
        }
      ]
    }
  ]
}