{
  "cells": [
    {
      "cell_type": "markdown",
      "metadata": {
        "id": "view-in-github",
        "colab_type": "text"
      },
      "source": [
        "<a href=\"https://colab.research.google.com/github/gabrielflores-cloud/cursophytoncucsh/blob/main/Proyecto_ChatBot.ipynb\" target=\"_parent\"><img src=\"https://colab.research.google.com/assets/colab-badge.svg\" alt=\"Open In Colab\"/></a>"
      ]
    },
    {
      "cell_type": "markdown",
      "metadata": {
        "id": "5IGzf3m3lQpK"
      },
      "source": [
        "Curso: Análisis y visualización de datos con Python en la nube\n",
        "\n",
        "**Proyecto 1.** **Chat bot simple**\n",
        "\n",
        "Gabriel Flores Allende\n",
        "\n",
        "*   Campus: CUCEA\n",
        "*   24 de septiembre de 2025\n",
        "\n",
        "\n",
        "\n"
      ]
    },
    {
      "cell_type": "code",
      "source": [
        "print(\"¡Hola!, soy un Chatbot\")\n",
        "print(\"Me crearon en 2025 para un ejercicio\")\n",
        "name = input(\"¿Y tu nombre, cuál es? \")\n",
        "print(f\"Mi nombre es {name}\")\n",
        "print(f\"\\tTienes un nombre muy bonito, {name}!\")"
      ],
      "metadata": {
        "id": "H5rQUqrNAvve",
        "outputId": "8836b416-a53c-40ed-a95f-84348a71138f",
        "colab": {
          "base_uri": "https://localhost:8080/"
        }
      },
      "execution_count": null,
      "outputs": [
        {
          "output_type": "stream",
          "name": "stdout",
          "text": [
            "¡Hola!, soy un Chatbot\n",
            "Me crearon en 2025 para un ejercicio\n",
            "¿Y tu nombre, cuál es? Gabriel\n",
            "Mi nombre es Gabriel\n",
            "\tTienes un nombre muy bonito, Gabriel!\n"
          ]
        }
      ]
    },
    {
      "cell_type": "code",
      "source": [
        "residuo_3 = int(input(\"¿Cuál es el residuo de la división de su edad entre 3? \"))\n",
        "residuo_5 = int(input(\"¿Cuál es el residuo de la división de su edad entre 5? \"))\n",
        "residuo_7 = int(input(\"¿Cuál es el residuo de la división de su edad entre 7? \"))\n",
        "\n",
        "edad_calculada = (residuo_3 * 70 + residuo_5 * 21 + residuo_7 * 15) % 105\n",
        "\n",
        "print(f\"La edad calculada del personaje ficticio es: {edad_calculada}\")"
      ],
      "metadata": {
        "colab": {
          "base_uri": "https://localhost:8080/"
        },
        "id": "ueBQndxrEXEi",
        "outputId": "93da05bf-b615-4115-8f7b-6661b86d35cc"
      },
      "execution_count": null,
      "outputs": [
        {
          "output_type": "stream",
          "name": "stdout",
          "text": [
            "¿Cuál es el residuo de la división de su edad entre 3? 2\n",
            "¿Cuál es el residuo de la división de su edad entre 5? 4\n",
            "¿Cuál es el residuo de la división de su edad entre 7? 3\n",
            "La edad calculada del personaje ficticio es: 59\n"
          ]
        }
      ]
    },
    {
      "cell_type": "code",
      "source": [
        "print(\"\\nAhora, un poco de geografía:\")\n",
        "print(\"¿Cuál de las siguientes afirmaciones es correcta sobre la ciudad de Guadalajara?\")\n",
        "print(\"1) Es la capital de Yucatán\")\n",
        "print(\"2) Fue fundada en 1820\")\n",
        "print(\"3) Se ubica en el Estado de Jalisco\")\n",
        "print(\"4) Es conocida como la ciudad de la furia\")\n",
        "\n",
        "respuesta = input(\"Ingresa el número de la respuesta correcta: \")\n",
        "\n",
        "if respuesta == \"3\":\n",
        "    print(\"¡Correcto! Guadalajara se ubica en el Estado de Jalisco.\")\n",
        "else:\n",
        "    print(\"Incorrecto. La respuesta correcta es la 3) Se ubica en el Estado de Jalisco.\")"
      ],
      "metadata": {
        "id": "f138efrgFzkF",
        "colab": {
          "base_uri": "https://localhost:8080/"
        },
        "outputId": "d36d19b9-b001-4822-f700-72d7dbe3240a"
      },
      "execution_count": 1,
      "outputs": [
        {
          "output_type": "stream",
          "name": "stdout",
          "text": [
            "\n",
            "Ahora, un poco de geografía:\n",
            "¿Cuál de las siguientes afirmaciones es correcta sobre la ciudad de Guadalajara?\n",
            "1) Es la capital de Yucatán\n",
            "2) Fue fundada en 1820\n",
            "3) Se ubica en el Estado de Jalisco\n",
            "4) Es conocida como la ciudad de la furia\n",
            "Ingresa el número de la respuesta correcta: 3\n",
            "¡Correcto! Guadalajara se ubica en el Estado de Jalisco.\n"
          ]
        }
      ]
    }
  ],
  "metadata": {
    "colab": {
      "provenance": [],
      "authorship_tag": "ABX9TyNUXJ+V6zLFHJJEDj69E35t",
      "include_colab_link": true
    },
    "kernelspec": {
      "display_name": "Python 3",
      "name": "python3"
    },
    "language_info": {
      "name": "python"
    }
  },
  "nbformat": 4,
  "nbformat_minor": 0
}